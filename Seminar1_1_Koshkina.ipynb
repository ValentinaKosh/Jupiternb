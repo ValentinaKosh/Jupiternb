{
 "cells": [
  {
   "cell_type": "markdown",
   "id": "e3af8c71",
   "metadata": {},
   "source": [
    "# Задание 2"
   ]
  },
  {
   "cell_type": "markdown",
   "id": "c32c03b2",
   "metadata": {},
   "source": [
    "## На складе лежат разные фрукты в разном количестве. Нужно написать функцию, которая на вход принимает любое количество названий фруктов и их количество, а возвращает общее количество фруктов на складе"
   ]
  },
  {
   "cell_type": "code",
   "execution_count": 19,
   "id": "46bdc5e5",
   "metadata": {},
   "outputs": [],
   "source": [
    "def fruits_basket(**kwargs):\n",
    "    {print(f\"{name} = {values}\")\n",
    "     for name, values in kwargs.items()}\n",
    "    return print(f'Total fruits: {sum(kwargs.values())}')"
   ]
  },
  {
   "cell_type": "code",
   "execution_count": 20,
   "id": "6484de3e",
   "metadata": {},
   "outputs": [
    {
     "name": "stdout",
     "output_type": "stream",
     "text": [
      "apple = 273\n",
      "orange = 150\n",
      "lemon = 50\n",
      "kivi = 200\n",
      "Total fruits: 673\n"
     ]
    }
   ],
   "source": [
    "fruits_basket(\n",
    "    apple = 273,\n",
    "    orange = 150,\n",
    "    lemon = 50,\n",
    "    kivi = 200\n",
    ")"
   ]
  },
  {
   "cell_type": "markdown",
   "id": "bf311578",
   "metadata": {},
   "source": [
    "# Задание 3"
   ]
  },
  {
   "cell_type": "markdown",
   "id": "f1d9aee5",
   "metadata": {},
   "source": [
    "## Дан список с затратами на рекламу. Но в данных есть ошибки, некоторые затраты имеют отрицательную величину. Удалите такие значения из списка и посчитайте суммарные затраты\n",
    "## [100, 125, -90, 345, 655, -1, 0, 200]\n",
    "## Используйте list comprehensions"
   ]
  },
  {
   "cell_type": "code",
   "execution_count": 25,
   "id": "17ecea47",
   "metadata": {},
   "outputs": [
    {
     "name": "stdout",
     "output_type": "stream",
     "text": [
      "Positive cost[100, 125, 345, 655, 200]\n"
     ]
    },
    {
     "data": {
      "text/plain": [
       "'Sum of total cost= 1425 '"
      ]
     },
     "execution_count": 25,
     "metadata": {},
     "output_type": "execute_result"
    }
   ],
   "source": [
    "list_cost = [100, 125, -90, 345, 655, -1, 0, 200]\n",
    "total_cost = [i for i in list_cost if i > 0]\n",
    "print(f'Positive cost{total_cost}')\n",
    "f\"Sum of total cost= {sum(total_cost)} \""
   ]
  },
  {
   "cell_type": "markdown",
   "id": "bc944c3e",
   "metadata": {},
   "source": [
    "# Задание 4"
   ]
  },
  {
   "cell_type": "markdown",
   "id": "72ff44f9",
   "metadata": {},
   "source": [
    "## Даны два списка: Дата покупки и Суммы покупок по датам\n",
    "\n",
    "## 4.1 Найдите, какая выручка у компании в ноябре\n",
    "## Используйте list comprehensions"
   ]
  },
  {
   "cell_type": "code",
   "execution_count": 40,
   "id": "a067bf73",
   "metadata": {},
   "outputs": [],
   "source": [
    "list_date = ['2021-09-14', '2021-12-15', '2021-09-08', '2021-12-05', '2021-10-09', '2021-09-30', '2021-12-22', '2021-11-29', '2021-12-24', '2021-11-26', '2021-10-27', '2021-12-18', '2021-11-09', '2021-11-23', '2021-09-27', '2021-10-02', '2021-12-27', '2021-09-20', '2021-12-13', '2021-11-01', '2021-11-09', '2021-12-06', '2021-12-08', '2021-10-09', '2021-10-31', '2021-09-30', '2021-11-09', '2021-12-13', '2021-10-26', '2021-12-09']\n",
    "list_coast = [1270, 8413, 9028, 3703, 5739, 4095, 295, 4944, 5723, 3701, 4471, 651, 7037, 4274, 6275, 4988, 6930, 2971, 6592, 2004, 2822, 519, 3406, 2732, 5015, 2008, 316, 6333, 5700, 2887]"
   ]
  },
  {
   "cell_type": "code",
   "execution_count": 42,
   "id": "b9aa896c",
   "metadata": {},
   "outputs": [
    {
     "data": {
      "text/plain": [
       "25098"
      ]
     },
     "execution_count": 42,
     "metadata": {},
     "output_type": "execute_result"
    }
   ],
   "source": [
    "TotalcoastNovember = sum(list_coast[i] for i in range(len(list_coast)) if '-11' in list_date[i])\n",
    "TotalcoastNovember"
   ]
  },
  {
   "cell_type": "markdown",
   "id": "79c0574b",
   "metadata": {},
   "source": [
    "## 4.2 Найдите выручку компании в зависимости от месяца\n",
    "## Для этого напишите функцию, которая на вход принимает список с датами и список с выручкой, а на выходе словарь, где ключи - это месяцы, а значения - это выручка.Используйте аннотирование типов."
   ]
  },
  {
   "cell_type": "code",
   "execution_count": 43,
   "id": "f4219e1c",
   "metadata": {},
   "outputs": [],
   "source": [
    "def funcionMonth(list_date: list, list_coast: list) -> dict:\n",
    "    restotal = {}\n",
    "    for i in range(len(list_date)):\n",
    "        month = list_date[i][5:7]\n",
    "        \n",
    "        if month in restotal:\n",
    "            restotal[month] += list_coast[i]\n",
    "        else:\n",
    "            restotal [month] = list_coast[i]\n",
    "            \n",
    "    return restotal"
   ]
  },
  {
   "cell_type": "code",
   "execution_count": 44,
   "id": "3096d3fd",
   "metadata": {},
   "outputs": [
    {
     "data": {
      "text/plain": [
       "{'09': 25647, '12': 45452, '10': 28645, '11': 25098}"
      ]
     },
     "execution_count": 44,
     "metadata": {},
     "output_type": "execute_result"
    }
   ],
   "source": [
    "funcionMonth(list_date, list_coast)"
   ]
  }
 ],
 "metadata": {
  "kernelspec": {
   "display_name": "Python 3 (ipykernel)",
   "language": "python",
   "name": "python3"
  },
  "language_info": {
   "codemirror_mode": {
    "name": "ipython",
    "version": 3
   },
   "file_extension": ".py",
   "mimetype": "text/x-python",
   "name": "python",
   "nbconvert_exporter": "python",
   "pygments_lexer": "ipython3",
   "version": "3.11.3"
  }
 },
 "nbformat": 4,
 "nbformat_minor": 5
}
